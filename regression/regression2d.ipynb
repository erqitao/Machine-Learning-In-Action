{
 "cells": [
  {
   "cell_type": "code",
   "execution_count": 2,
   "metadata": {},
   "outputs": [
    {
     "name": "stdout",
     "output_type": "stream",
     "text": [
      "weights = [7.689014492979993, 5.001308322291809]\n",
      "average loss: 7.6768256076264665\n"
     ]
    },
    {
     "data": {
      "image/png": "[encoded data removed]",
      "text/plain": [
       "<Figure size 432x288 with 1 Axes>"
      ]
     },
     "metadata": {
      "needs_background": "light"
     },
     "output_type": "display_data"
    }
   ],
   "source": [
    "import numpy as np\n",
    "import matplotlib.pyplot as plt\n",
    "\n",
    "def generateDataSet():\n",
    "    fr = open('data2d.txt', 'w')\n",
    "    numOfPoints = 50\n",
    "    x = np.linspace(1, 20, numOfPoints)\n",
    "    rd = np.random.randn(numOfPoints) * 3\n",
    "    y = 5 * x + rd + 8\n",
    "    for i in range(numOfPoints):\n",
    "        fr.write(str(x[i]) + '\\t' + str(y[i]) + '\\n')\n",
    "    fr.close()\n",
    "\n",
    "def loadDataSet():\n",
    "    fr = open('data2d.txt')\n",
    "    arrayOfLines = fr.readlines()\n",
    "    dataSet = []\n",
    "    for line in arrayOfLines:\n",
    "        curLine = list(map(float, line.strip().split('\\t')))\n",
    "        dataSet.append(curLine)\n",
    "    fr.close()\n",
    "    return dataSet\n",
    "\n",
    "def stand_regression(dataSet):\n",
    "    dataSet = np.array(dataSet)\n",
    "    m = len(dataSet)\n",
    "    X = np.ones((2, m))\n",
    "    X[1, :] = dataSet[:, 0]\n",
    "    X = np.matrix(X)\n",
    "    \n",
    "    y = dataSet[:, 1]\n",
    "    y = np.array(y)\n",
    "    \n",
    "    XXt = X * X.T\n",
    "    \n",
    "    weights = y * X.T * XXt.I\n",
    "    \n",
    "    y_hat = weights * X\n",
    "    error = y_hat - y\n",
    "    error_ary = np.array(error.tolist()[0])\n",
    "    error_square_ary = error_ary ** 2\n",
    "    avg_loss = np.sum(error_square_ary) / m\n",
    "    \n",
    "    weights = weights.tolist()[0]\n",
    "    print('weights =', weights)\n",
    "    return weights, avg_loss\n",
    "\n",
    "def plotBestFit(dataSet):\n",
    "    dataSet = np.array(dataSet)\n",
    "    ws, avg_loss = stand_regression(dataSet)\n",
    "    print(\"average loss:\", avg_loss)\n",
    "    fig = plt.figure()\n",
    "    ax = fig.add_subplot(111)\n",
    "    ax.scatter(dataSet[:,0], dataSet[:, 1])\n",
    "    min_x = np.min(dataSet[:, 0]) - 1\n",
    "    max_x = np.max(dataSet[:, 0]) + 1\n",
    "    x = np.linspace(min_x, max_x, len(dataSet))\n",
    "    y = ws[0] + ws[1] * x\n",
    "    \n",
    "    plt.plot(x, y, c='red')\n",
    "    \n",
    "if __name__ == \"__main__\":\n",
    "    # generateDataSet()\n",
    "    dataSet = loadDataSet()\n",
    "    plotBestFit(dataSet)"
   ]
  }
 ],
 "metadata": {
  "kernelspec": {
   "display_name": "Python 3",
   "language": "python",
   "name": "python3"
  },
  "language_info": {
   "codemirror_mode": {
    "name": "ipython",
    "version": 3
   },
   "file_extension": ".py",
   "mimetype": "text/x-python",
   "name": "python",
   "nbconvert_exporter": "python",
   "pygments_lexer": "ipython3",
   "version": "3.7.4"
  }
 },
 "nbformat": 4,
 "nbformat_minor": 2
}
